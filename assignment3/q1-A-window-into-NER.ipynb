{
 "cells": [
  {
   "cell_type": "markdown",
   "metadata": {},
   "source": [
    "# (d) i.\n",
    "\n",
    "Output:\n",
    "\n",
    "```\n",
    "...\n",
    "\n",
    "INFO:Epoch 10 out of 10\n",
    "100/100 [==============================] - 1s - train loss: 0.0328     \n",
    "\n",
    "INFO:Evaluating on development data\n",
    "26/26 [==============================] - 0s     \n",
    "DEBUG:Token-level confusion matrix:\n",
    "go\\gu   \tPER     \tORG     \tLOC     \tMISC    \tO       \n",
    "PER     \t2898.00 \t56.00   \t87.00   \t17.00   \t91.00   \n",
    "ORG     \t106.00  \t1706.00 \t94.00   \t63.00   \t123.00  \n",
    "LOC     \t31.00   \t88.00   \t1907.00 \t23.00   \t45.00   \n",
    "MISC    \t37.00   \t60.00   \t36.00   \t1029.00 \t106.00  \n",
    "O       \t32.00   \t49.00   \t19.00   \t30.00   \t42629.00\n",
    "\n",
    "DEBUG:Token-level scores:\n",
    "label\tacc  \tprec \trec  \tf1   \n",
    "PER  \t0.99 \t0.93 \t0.92 \t0.93 \n",
    "ORG  \t0.99 \t0.87 \t0.82 \t0.84 \n",
    "LOC  \t0.99 \t0.89 \t0.91 \t0.90 \n",
    "MISC \t0.99 \t0.89 \t0.81 \t0.85 \n",
    "O    \t0.99 \t0.99 \t1.00 \t0.99 \n",
    "micro\t0.99 \t0.98 \t0.98 \t0.98 \n",
    "macro\t0.99 \t0.91 \t0.89 \t0.90 \n",
    "not-O\t0.99 \t0.90 \t0.88 \t0.89 \n",
    "\n",
    "INFO:Entity level P/R/F1: 0.83/0.85/0.84\n",
    "INFO:New best score! Saving model in results/window/20171109_195304/model.weights\n",
    "\n",
    "26/26 [==============================] - 0s     \n",
    "```"
   ]
  },
  {
   "cell_type": "markdown",
   "metadata": {},
   "source": [
    "The confusion matrix shows that the diagonal values are big, which is good. But there are relatively more confusion between ORG & O, and ORG and PER."
   ]
  },
  {
   "cell_type": "markdown",
   "metadata": {},
   "source": [
    "# (d) ii."
   ]
  },
  {
   "cell_type": "markdown",
   "metadata": {},
   "source": [
    "It seems the model cannot consider multi-word entities effectively. .e.g.\n",
    "\n",
    "Quote the solution file\n",
    ">The window-based model can not use information from neighboring predictions\n",
    "to disambiguate labeling decisions, leading to non-contiguous entity predictions.\n",
    "\n",
    "```\n",
    "x : starting on May 13 next year , the Test and County Cricket Board \n",
    "y*: O        O  O   O  O    O    O O   ORG  ORG ORG    ORG     ORG   \n",
    "y': O        O  O   O  O    O    O O   MISC O   ORG    ORG     ORG   \n",
    "\n",
    "x : English county sides and another against British Universities , \n",
    "y*: MISC    O      O     O   O       O       ORG     ORG          O \n",
    "y': MISC    O      O     O   O       O       MISC    ORG          O \n",
    "\n",
    "x : May 14 Practice at Lord 's  \n",
    "y*: O   O  O        O  LOC  LOC \n",
    "y': O   O  O        O  LOC  O   \n",
    "x : May 15 v Duke of  Norfolk 's  XI  ( at Arundel ) \n",
    "y*: O   O  O ORG  ORG ORG     ORG ORG O O  LOC     O \n",
    "y': O   O  O ORG  O   ORG     O   ORG O O  LOC     O \n",
    "\n",
    "x : May 25 Third one-day international ( at Lord 's  , London ) \n",
    "y*: O   O  O     O       O             O O  LOC  LOC O LOC    O \n",
    "y': O   O  O     O       O             O O  LOC  O   O LOC    O \n",
    "```\n",
    "\n",
    "It can't use remote information:\n",
    "\n",
    "```\n",
    "x : \" I 'm an emotional player , \" said the 104th-ranked Tarango . \" \n",
    "y*: O O O  O  O         O      O O O    O   O            PER     O O \n",
    "y': O O O  O  O         O      O O O    O   O            O       O O \n",
    "```\n",
    "\n",
    "`Tarango` is clearly a person"
   ]
  },
  {
   "cell_type": "code",
   "execution_count": null,
   "metadata": {
    "collapsed": true
   },
   "outputs": [],
   "source": []
  }
 ],
 "metadata": {
  "kernelspec": {
   "display_name": "Python 2",
   "language": "python",
   "name": "python2"
  },
  "language_info": {
   "codemirror_mode": {
    "name": "ipython",
    "version": 2
   },
   "file_extension": ".py",
   "mimetype": "text/x-python",
   "name": "python",
   "nbconvert_exporter": "python",
   "pygments_lexer": "ipython2",
   "version": "2.7.14"
  }
 },
 "nbformat": 4,
 "nbformat_minor": 2
}
