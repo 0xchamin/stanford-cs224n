{
 "cells": [
  {
   "cell_type": "markdown",
   "metadata": {},
   "source": [
    "# (a)"
   ]
  },
  {
   "cell_type": "markdown",
   "metadata": {},
   "source": [
    "### Window-based model:"
   ]
  },
  {
   "cell_type": "markdown",
   "metadata": {},
   "source": [
    "\\begin{align*}\n",
    "e^{(t)} &= [x^{(t - w)}L, \\cdots, x^{(t)}L, \\cdots, x^{(t+w)}L] \\\\\n",
    "h^{(t)} &= \\mathrm{ReLU}(e^{(t)}W + b_1) \\\\\n",
    "\\hat{y}^{(t)} &= \\mathrm{softmax}(h^{(t)}U + b_2) \\\\\n",
    "J &= CE(y^{(t)}, \\hat{y}^{(t)}) = -\\sum_{i}^{T}y_i^{(t)}\\mathrm{log}(\\hat{y}_i^{(t)})\n",
    "\\end{align*}"
   ]
  },
  {
   "cell_type": "markdown",
   "metadata": {},
   "source": [
    "Variable parameters:"
   ]
  },
  {
   "cell_type": "markdown",
   "metadata": {},
   "source": [
    "* $x$: $V$ (one-hot)\n",
    "* $L$: $V \\times D$\n",
    "* $e^{(t)}$: $1 \\times (2w + 1)D$\n",
    "* $W$: $(2w + 1)D \\times H$\n",
    "* $b_1$: $1 \\times H$\n",
    "* $h^{(t)}$: $1 \\times H$\n",
    "* $U$: $H \\times C$\n",
    "* $b_2$: $1 \\times C$"
   ]
  },
  {
   "cell_type": "markdown",
   "metadata": {},
   "source": [
    "### RNN:"
   ]
  },
  {
   "cell_type": "markdown",
   "metadata": {},
   "source": [
    "\\begin{align*}\n",
    "e^{(t)} &= x^{(t)}L \\\\\n",
    "h^{(t)} &= \\sigma(h^{(t - 1)} W_h + e^{(t)} W_x + b_1) ) \\\\\n",
    "\\hat{y}^{(t)} &= \\mathrm{softmax}(h^{(t)}U + b_2) \\\\\n",
    "J &= CE(y^{(t)}, \\hat{y}^{(t)}) = -\\sum_{i}^{T}y_i^{(t)}\\mathrm{log}(\\hat{y}_i^{(t)})\n",
    "\\end{align*}"
   ]
  },
  {
   "cell_type": "markdown",
   "metadata": {},
   "source": [
    "Variable parameters (only different parts from window-based model are shown):"
   ]
  },
  {
   "cell_type": "markdown",
   "metadata": {},
   "source": [
    "* $e^{(t)}$: $1 \\times D$\n",
    "* $W_x$: $D \\times H$\n",
    "* $W_h$: $H \\times H$"
   ]
  },
  {
   "cell_type": "markdown",
   "metadata": {},
   "source": [
    "So \n",
    "\n",
    "i. (1) RNN has an additional $W_h$, and (2) its $W_x$ has different dimensions from its correspondent in the window-based model\n",
    "\n",
    "ii. in terms of computation complexity, (1) window-based model has $\\mathcal{O}(DH + HC)$; while in the RNN model, it's $\\mathcal{O}((HH + DH)T + HC)$. Given $C$ is small, the $HC$ term may be dropped."
   ]
  },
  {
   "cell_type": "markdown",
   "metadata": {},
   "source": [
    "# (b)"
   ]
  },
  {
   "cell_type": "markdown",
   "metadata": {},
   "source": [
    "$$F1 = 2 \\cdot \\frac{precision \\cdot recall}{precision + recall}$$\n",
    "\n",
    "F1 is not differentiable and and it needs to take the entire corpus into consideration to be calculated, so it would be difficult to optimize directly for F1."
   ]
  },
  {
   "cell_type": "markdown",
   "metadata": {},
   "source": [
    "# (f)\n",
    "\n",
    "Output:\n",
    "\n",
    "```\n",
    "INFO:Epoch 10 out of 10\n",
    "439/439 [==============================] - 33s - train loss: 0.0233      \n",
    "\n",
    "INFO:Evaluating on development data\n",
    "102/102 [==============================] - 40s     \n",
    "DEBUG:Token-level confusion matrix:\n",
    "go\\gu           PER             ORG             LOC             MISC            O       \n",
    "PER             2925.00         40.00           81.00           26.00           77.00   \n",
    "ORG             85.00           1617.00         102.00          158.00          130.00  \n",
    "LOC             20.00           64.00           1925.00         46.00           39.00   \n",
    "MISC            25.00           17.00           35.00           1090.00         101.00  \n",
    "O               24.00           30.00           20.00           52.00           42633.00\n",
    "\n",
    "DEBUG:Token-level scores:\n",
    "label   acc     prec    rec     f1   \n",
    "PER     0.99    0.95    0.93    0.94 \n",
    "ORG     0.99    0.91    0.77    0.84 \n",
    "LOC     0.99    0.89    0.92    0.90 \n",
    "MISC    0.99    0.79    0.86    0.83 \n",
    "O       0.99    0.99    1.00    0.99 \n",
    "micro   0.99    0.98    0.98    0.98 \n",
    "macro   0.99    0.91    0.90    0.90 \n",
    "not-O   0.99    0.90    0.88    0.89 \n",
    "\n",
    "INFO:Entity level P/R/F1: 0.84/0.86/0.85\n",
    "\n",
    "102/102 [==============================] - 41s    \n",
    "```"
   ]
  },
  {
   "cell_type": "markdown",
   "metadata": {},
   "source": [
    "### Limitation of RNN"
   ]
  },
  {
   "cell_type": "markdown",
   "metadata": {},
   "source": [
    "1. There is heavy mix bewteen MISC & ORG, and O & ORG.\n",
    "1. It seems that RNN has the same problem of non-contiguous entity predictions as window-based NN model.\n",
    "\n",
    "    ```\n",
    "    x : starting on May 13 next year , the Test and County Cricket Board \n",
    "    y*: O        O  O   O  O    O    O O   ORG  ORG ORG    ORG     ORG   \n",
    "    y': O        O  O   O  O    O    O O   MISC O   ORG    ORG     ORG   \n",
    "\n",
    "    x : as well as one-day matches against the Minor Counties and \n",
    "    y*: O  O    O  O       O       O       O   ORG   ORG      O   \n",
    "    y': O  O    O  O       O       O       O   ORG   MISC     O  \n",
    "\n",
    "    x : May 14 Practice at Lord 's  \n",
    "    y*: O   O  O        O  LOC  LOC \n",
    "    y': O   O  O        O  LOC  O   \n",
    "\n",
    "    x : May 25 Third one-day international ( at Lord 's  , London ) \n",
    "    y*: O   O  O     O       O             O O  LOC  LOC O LOC    O \n",
    "    y': O   O  O     O       O             O O  LOC  O   O LOC    O \n",
    "\n",
    "    x : June 5-9 First test match ( at Edgbaston , Birmingham ) \n",
    "    y*: O    O   O     O    O     O O  LOC       O LOC        O \n",
    "    y': O    O   MISC  O    O     O O  LOC       O LOC        O \n",
    "\n",
    "    x : June 19-23 Second test ( at Lord 's  ) \n",
    "    y*: O    O     O      O    O O  LOC  LOC O \n",
    "    y': O    O     O      O    O O  LOC  O   O \n",
    "\n",
    "    x : SOCCER - SHEARER NAMED AS ENGLAND CAPTAIN . \n",
    "    y*: O      O PER     O     O  LOC     O       O \n",
    "    y': O      O O       O     O  LOC     O       O \n",
    "\n",
    "    x : BASKETBALL - INTERNATIONAL TOURNAMENT RESULT . \n",
    "    y*: O          O O             O          O      O \n",
    "    y': O          O MISC          O          O      O \n",
    "    ```\n",
    "\n",
    "1. But it can recognize person correctly now, which is cool!\n",
    "\n",
    "    ```\n",
    "    x : \" I 'm an emotional player , \" said the 104th-ranked Tarango . \" \n",
    "    y*: O O O  O  O         O      O O O    O   O            PER     O O \n",
    "    y': O O O  O  O         O      O O O    O   O            PER     O O \n",
    "    ```\n",
    "    \n",
    "Not sure how the first two points could be fixed yet. :("
   ]
  },
  {
   "cell_type": "code",
   "execution_count": null,
   "metadata": {
    "collapsed": true
   },
   "outputs": [],
   "source": []
  }
 ],
 "metadata": {
  "kernelspec": {
   "display_name": "Python 2",
   "language": "python",
   "name": "python2"
  },
  "language_info": {
   "codemirror_mode": {
    "name": "ipython",
    "version": 2
   },
   "file_extension": ".py",
   "mimetype": "text/x-python",
   "name": "python",
   "nbconvert_exporter": "python",
   "pygments_lexer": "ipython2",
   "version": "2.7.13"
  }
 },
 "nbformat": 4,
 "nbformat_minor": 2
}
