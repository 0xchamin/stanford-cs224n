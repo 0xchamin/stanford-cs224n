{
 "cells": [
  {
   "cell_type": "markdown",
   "metadata": {},
   "source": [
    "http://web.stanford.edu/class/cs224n/assignment1/index.html"
   ]
  },
  {
   "cell_type": "markdown",
   "metadata": {},
   "source": [
    "# (a) "
   ]
  },
  {
   "cell_type": "markdown",
   "metadata": {},
   "source": [
    "$$\n",
    "\\mathrm{softmax}(\\boldsymbol{x})_i = s(x)_i = \\frac{e^{x_i}}{\\sum_j e^{x_j}}\n",
    "$$"
   ]
  },
  {
   "cell_type": "markdown",
   "metadata": {},
   "source": [
    "Then,\n",
    "\n",
    "\\begin{align*}\n",
    "s(x + c) &= \\frac{e^{x_i + c}}{\\sum_j e^{x_j + c}} \\\\\n",
    "             &= \\frac{e^{x_i} e^{c}}{e^{c} \\sum_j {e^{x_j}}} \\\\\n",
    "             &= \\frac{e^{x_i}}{\\sum_j e^{x_j}}\n",
    "             &= s(x)\n",
    "\\end{align*}\n",
    "\n",
    "So softmax i invariant to constant offsets"
   ]
  }
 ],
 "metadata": {
  "kernelspec": {
   "display_name": "Python 3",
   "language": "python",
   "name": "python3"
  },
  "language_info": {
   "codemirror_mode": {
    "name": "ipython",
    "version": 3
   },
   "file_extension": ".py",
   "mimetype": "text/x-python",
   "name": "python",
   "nbconvert_exporter": "python",
   "pygments_lexer": "ipython3",
   "version": "3.5.1"
  }
 },
 "nbformat": 4,
 "nbformat_minor": 0
}
